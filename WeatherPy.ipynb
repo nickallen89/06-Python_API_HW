{
 "cells": [
  {
   "cell_type": "markdown",
   "metadata": {},
   "source": [
    "# WeatherPy\n",
    "----\n",
    "\n",
    "### Analysis\n",
    "* As expected, the weather becomes significantly warmer as one approaches the equator (0 Deg. Latitude). More interestingly, however, is the fact that the southern hemisphere tends to be warmer this time of year than the northern hemisphere. This may be due to the tilt of the earth.\n",
    "* There is no strong relationship between latitude and cloudiness. However, it is interesting to see that a strong band of cities sits at 0, 80, and 100% cloudiness.\n",
    "* There is no strong relationship between latitude and wind speed. However, in northern hemispheres there is a flurry of cities with over 20 mph of wind.\n",
    "\n",
    "---\n",
    "\n",
    "#### Note\n",
    "* Instructions have been included for each segment. You do not have to follow them exactly, but they are included to help you think through the steps."
   ]
  },
  {
   "cell_type": "code",
   "execution_count": 5,
   "metadata": {
    "scrolled": true
   },
   "outputs": [],
   "source": [
    "# Dependencies and Setup\n",
    "import matplotlib.pyplot as plt\n",
    "import pandas as  pd\n",
    "import numpy as np\n",
    "import requests\n",
    "import time\n",
    "\n",
    "# Import API key\n",
    "from api_keys import api_key\n",
    "\n",
    "# Incorporated citipy to determine city based on latitude and longitude\n",
    "from citipy import citipy\n",
    "\n",
    "# Output File (CSV)\n",
    "output_data_file = \"output_data/cities.csv\"\n",
    "\n",
    "# Range of latitudes and longitudes\n",
    "lat_range = (-90, 90)\n",
    "lng_range = (-180, 180)\n",
    "\n",
    "# Base url\n",
    "unit = \"imperial\"\n",
    "url = f\"http://api.openweathermap.org/data/2.5/weather?units={unit}&appid={api_key}&q=\"\n"
   ]
  },
  {
   "cell_type": "markdown",
   "metadata": {},
   "source": [
    "## Generate Cities List"
   ]
  },
  {
   "cell_type": "code",
   "execution_count": 6,
   "metadata": {},
   "outputs": [
    {
     "data": {
      "text/plain": [
       "589"
      ]
     },
     "execution_count": 6,
     "metadata": {},
     "output_type": "execute_result"
    }
   ],
   "source": [
    "# List for holding lat_lngs and cities\n",
    "lat_lngs = []\n",
    "cities = []\n",
    "\n",
    "# Create a set of random lat and lng combinations\n",
    "lats = np.random.uniform(low=-90.000, high=90.000, size=1500)\n",
    "lngs = np.random.uniform(low=-180.000, high=180.000, size=1500)\n",
    "lat_lngs = zip(lats, lngs)\n",
    "\n",
    "# Identify nearest city for each lat, lng combination\n",
    "for lat_lng in lat_lngs:\n",
    "    city = citipy.nearest_city(lat_lng[0], lat_lng[1]).city_name\n",
    "    \n",
    "    # If the city is unique, then add it to a our cities list\n",
    "    if city not in cities:\n",
    "        cities.append(city)\n",
    "\n",
    "# Print the city count to confirm sufficient count\n",
    "len(cities)"
   ]
  },
  {
   "cell_type": "markdown",
   "metadata": {},
   "source": [
    "### Perform API Calls\n",
    "* Perform a weather check on each city using a series of successive API calls.\n",
    "* Include a print log of each city as it'sbeing processed (with the city number and city name).\n"
   ]
  },
  {
   "cell_type": "code",
   "execution_count": 7,
   "metadata": {},
   "outputs": [
    {
     "data": {
      "text/plain": [
       "{'coord': {'lon': -48.93, 'lat': -23.1},\n",
       " 'weather': [{'id': 804,\n",
       "   'main': 'Clouds',\n",
       "   'description': 'overcast clouds',\n",
       "   'icon': '04n'}],\n",
       " 'base': 'stations',\n",
       " 'main': {'temp': 66.52,\n",
       "  'pressure': 1012.56,\n",
       "  'humidity': 99,\n",
       "  'temp_min': 66.52,\n",
       "  'temp_max': 66.52,\n",
       "  'sea_level': 1012.56,\n",
       "  'grnd_level': 943.3},\n",
       " 'wind': {'speed': 3.27, 'deg': 132.505},\n",
       " 'clouds': {'all': 92},\n",
       " 'dt': 1551340619,\n",
       " 'sys': {'message': 0.0037,\n",
       "  'country': 'BR',\n",
       "  'sunrise': 1551345061,\n",
       "  'sunset': 1551390301},\n",
       " 'id': 3471291,\n",
       " 'name': 'Avare',\n",
       " 'cod': 200}"
      ]
     },
     "execution_count": 7,
     "metadata": {},
     "output_type": "execute_result"
    }
   ],
   "source": [
    "# JSON code/indices check\n",
    "requests.get(url + cities[0]).json()"
   ]
  },
  {
   "cell_type": "code",
   "execution_count": 8,
   "metadata": {},
   "outputs": [
    {
     "name": "stdout",
     "output_type": "stream",
     "text": [
      "Beginning Data Retrieval\n",
      "-----------------------------\n",
      "Processing Record 1 of Set 1 | avare\n",
      "City not found. Skipping...\n",
      "Processing Record 2 of Set 1 | kapaa\n",
      "Processing Record 3 of Set 1 | hovd\n",
      "Processing Record 4 of Set 1 | hithadhoo\n",
      "Processing Record 5 of Set 1 | ramnagar\n",
      "Processing Record 6 of Set 1 | nikolskoye\n",
      "Processing Record 7 of Set 1 | vamvakou\n",
      "City not found. Skipping...\n",
      "Processing Record 8 of Set 1 | carnarvon\n",
      "Processing Record 9 of Set 1 | rikitea\n",
      "Processing Record 10 of Set 1 | jumla\n",
      "Processing Record 11 of Set 1 | punta arenas\n",
      "Processing Record 12 of Set 1 | paamiut\n",
      "Processing Record 13 of Set 1 | tura\n",
      "Processing Record 14 of Set 1 | port alfred\n",
      "City not found. Skipping...\n",
      "Processing Record 15 of Set 1 | lebu\n",
      "Processing Record 16 of Set 1 | le vauclin\n",
      "Processing Record 17 of Set 1 | lompoc\n",
      "Processing Record 18 of Set 1 | aklavik\n",
      "Processing Record 19 of Set 1 | geraldton\n",
      "Processing Record 20 of Set 1 | morros\n",
      "Processing Record 21 of Set 1 | busselton\n",
      "Processing Record 22 of Set 1 | hermanus\n",
      "Processing Record 23 of Set 1 | bajil\n",
      "Processing Record 24 of Set 1 | morant bay\n",
      "Processing Record 25 of Set 1 | yulara\n",
      "Processing Record 26 of Set 1 | matiguas\n",
      "Processing Record 27 of Set 1 | mataura\n",
      "Processing Record 28 of Set 1 | itarema\n",
      "Processing Record 29 of Set 1 | ushuaia\n",
      "Processing Record 30 of Set 1 | tuktoyaktuk\n",
      "Processing Record 31 of Set 1 | karratha\n",
      "Processing Record 32 of Set 1 | magadan\n",
      "Processing Record 33 of Set 1 | dikson\n",
      "Processing Record 34 of Set 1 | kachiry\n",
      "Processing Record 35 of Set 1 | maniitsoq\n",
      "Processing Record 36 of Set 1 | albany\n",
      "Processing Record 37 of Set 1 | barrow\n",
      "Processing Record 38 of Set 1 | mahebourg\n",
      "Processing Record 39 of Set 1 | olavarria\n",
      "Processing Record 40 of Set 1 | ilulissat\n",
      "Processing Record 41 of Set 1 | ribeira grande\n",
      "Processing Record 42 of Set 1 | kodiak\n",
      "Processing Record 43 of Set 1 | marawi\n",
      "Processing Record 44 of Set 1 | aborlan\n",
      "City not found. Skipping...\n",
      "Processing Record 45 of Set 1 | severo-kurilsk\n",
      "Processing Record 46 of Set 1 | hilo\n",
      "Processing Record 47 of Set 1 | butaritari\n",
      "City not found. Skipping...\n",
      "Processing Record 48 of Set 1 | rampur\n",
      "Processing Record 49 of Set 1 | vao\n",
      "Processing Record 50 of Set 1 | bredasdorp\n",
      "Processing Record 1 of Set 2 | puerto ayora\n",
      "Processing Record 2 of Set 2 | kaitangata\n",
      "Processing Record 3 of Set 2 | east london\n",
      "Processing Record 4 of Set 2 | gizo\n",
      "City not found. Skipping...\n",
      "City not found. Skipping...\n",
      "Processing Record 5 of Set 2 | hay river\n",
      "Processing Record 6 of Set 2 | gilbues\n",
      "City not found. Skipping...\n",
      "Processing Record 7 of Set 2 | hobart\n",
      "Processing Record 8 of Set 2 | rantepao\n",
      "City not found. Skipping...\n",
      "Processing Record 9 of Set 2 | ladario\n",
      "Processing Record 10 of Set 2 | rawson\n",
      "Processing Record 11 of Set 2 | laguna\n",
      "Processing Record 12 of Set 2 | georgetown\n",
      "Processing Record 13 of Set 2 | cidreira\n",
      "Processing Record 14 of Set 2 | lasa\n",
      "Processing Record 15 of Set 2 | atuona\n",
      "Processing Record 16 of Set 2 | esperance\n",
      "City not found. Skipping...\n",
      "Processing Record 17 of Set 2 | grand gaube\n",
      "Processing Record 18 of Set 2 | te anau\n",
      "Processing Record 19 of Set 2 | sabla\n",
      "Processing Record 20 of Set 2 | adrar\n",
      "Processing Record 21 of Set 2 | mandalgovi\n",
      "Processing Record 22 of Set 2 | ayer keroh\n",
      "Processing Record 23 of Set 2 | dabakala\n",
      "Processing Record 24 of Set 2 | tilichiki\n",
      "Processing Record 25 of Set 2 | autazes\n",
      "Processing Record 26 of Set 2 | yaan\n",
      "Processing Record 27 of Set 2 | nanortalik\n",
      "Processing Record 28 of Set 2 | qaanaaq\n",
      "Processing Record 29 of Set 2 | kruisfontein\n",
      "Processing Record 30 of Set 2 | tuatapere\n",
      "Processing Record 31 of Set 2 | kahului\n",
      "Processing Record 32 of Set 2 | port blair\n",
      "Processing Record 33 of Set 2 | keti bandar\n",
      "Processing Record 34 of Set 2 | riviere-au-renard\n",
      "City not found. Skipping...\n",
      "City not found. Skipping...\n",
      "Processing Record 35 of Set 2 | bethel\n",
      "Processing Record 36 of Set 2 | shevchenkove\n",
      "Processing Record 37 of Set 2 | henties bay\n",
      "City not found. Skipping...\n",
      "Processing Record 38 of Set 2 | choix\n",
      "Processing Record 39 of Set 2 | clyde river\n",
      "Processing Record 40 of Set 2 | katsuura\n",
      "City not found. Skipping...\n",
      "Processing Record 41 of Set 2 | huarmey\n",
      "Processing Record 42 of Set 2 | bandarbeyla\n",
      "Processing Record 43 of Set 2 | vidim\n",
      "City not found. Skipping...\n",
      "Processing Record 44 of Set 2 | palauig\n",
      "Processing Record 45 of Set 2 | jamestown\n",
      "Processing Record 46 of Set 2 | vaini\n",
      "Processing Record 47 of Set 2 | pangnirtung\n",
      "Processing Record 48 of Set 2 | coffs harbour\n",
      "Processing Record 49 of Set 2 | chifeng\n",
      "Processing Record 50 of Set 2 | thompson\n",
      "Processing Record 1 of Set 3 | vila franca do campo\n",
      "Processing Record 2 of Set 3 | constitucion\n",
      "Processing Record 3 of Set 3 | port hawkesbury\n",
      "Processing Record 4 of Set 3 | saint-philippe\n",
      "Processing Record 5 of Set 3 | longyearbyen\n",
      "Processing Record 6 of Set 3 | cape town\n",
      "Processing Record 7 of Set 3 | ponta do sol\n",
      "Processing Record 8 of Set 3 | san patricio\n",
      "Processing Record 9 of Set 3 | ancud\n",
      "City not found. Skipping...\n",
      "Processing Record 10 of Set 3 | vrangel\n",
      "Processing Record 11 of Set 3 | bahile\n",
      "Processing Record 12 of Set 3 | avarua\n",
      "Processing Record 13 of Set 3 | dunedin\n",
      "City not found. Skipping...\n",
      "Processing Record 14 of Set 3 | tottori\n",
      "Processing Record 15 of Set 3 | quatre cocos\n",
      "Processing Record 16 of Set 3 | cabedelo\n",
      "Processing Record 17 of Set 3 | new norfolk\n",
      "Processing Record 18 of Set 3 | port elizabeth\n",
      "Processing Record 19 of Set 3 | sao gabriel da cachoeira\n",
      "Processing Record 20 of Set 3 | half moon bay\n",
      "City not found. Skipping...\n",
      "Processing Record 21 of Set 3 | bluff\n",
      "Processing Record 22 of Set 3 | chokurdakh\n",
      "Processing Record 23 of Set 3 | port lincoln\n",
      "Processing Record 24 of Set 3 | san quintin\n",
      "Processing Record 25 of Set 3 | goderich\n",
      "Processing Record 26 of Set 3 | cairns\n",
      "Processing Record 27 of Set 3 | watertown\n",
      "Processing Record 28 of Set 3 | inhambane\n",
      "Processing Record 29 of Set 3 | beringovskiy\n",
      "Processing Record 30 of Set 3 | ambunti\n",
      "Processing Record 31 of Set 3 | lorengau\n",
      "Processing Record 32 of Set 3 | narsaq\n",
      "Processing Record 33 of Set 3 | usinsk\n",
      "Processing Record 34 of Set 3 | cayenne\n",
      "Processing Record 35 of Set 3 | dauphin\n",
      "Processing Record 36 of Set 3 | khatanga\n",
      "Processing Record 37 of Set 3 | yarim\n",
      "City not found. Skipping...\n",
      "City not found. Skipping...\n",
      "City not found. Skipping...\n",
      "Processing Record 38 of Set 3 | naze\n",
      "Processing Record 39 of Set 3 | guerrero negro\n",
      "Processing Record 40 of Set 3 | anjo\n",
      "Processing Record 41 of Set 3 | turukhansk\n",
      "Processing Record 42 of Set 3 | mao\n",
      "Processing Record 43 of Set 3 | khandyga\n",
      "Processing Record 44 of Set 3 | saskylakh\n",
      "Processing Record 45 of Set 3 | jacareacanga\n",
      "Processing Record 46 of Set 3 | sokoto\n",
      "Processing Record 47 of Set 3 | tasiilaq\n",
      "City not found. Skipping...\n",
      "Processing Record 48 of Set 3 | isla vista\n",
      "Processing Record 49 of Set 3 | codrington\n",
      "Processing Record 50 of Set 3 | morro bay\n",
      "Processing Record 1 of Set 4 | sambava\n",
      "City not found. Skipping...\n",
      "Processing Record 2 of Set 4 | burgeo\n",
      "Processing Record 3 of Set 4 | mikhaylovsk\n",
      "Processing Record 4 of Set 4 | faanui\n",
      "City not found. Skipping...\n",
      "Processing Record 5 of Set 4 | norman wells\n",
      "Processing Record 6 of Set 4 | cao bang\n",
      "Processing Record 7 of Set 4 | tiksi\n",
      "Processing Record 8 of Set 4 | baoshan\n",
      "Processing Record 9 of Set 4 | victoria\n",
      "Processing Record 10 of Set 4 | rincon\n",
      "City not found. Skipping...\n",
      "Processing Record 11 of Set 4 | pacific grove\n",
      "Processing Record 12 of Set 4 | igarka\n",
      "Processing Record 13 of Set 4 | kungurtug\n",
      "Processing Record 14 of Set 4 | mar del plata\n",
      "Processing Record 15 of Set 4 | saldanha\n",
      "Processing Record 16 of Set 4 | moose factory\n",
      "Processing Record 17 of Set 4 | coihaique\n",
      "Processing Record 18 of Set 4 | san cristobal\n",
      "Processing Record 19 of Set 4 | imeni poliny osipenko\n",
      "Processing Record 20 of Set 4 | zlynka\n",
      "Processing Record 21 of Set 4 | changping\n",
      "Processing Record 22 of Set 4 | edendale\n",
      "Processing Record 23 of Set 4 | antofagasta\n",
      "Processing Record 24 of Set 4 | nome\n",
      "Processing Record 25 of Set 4 | lavrentiya\n",
      "Processing Record 26 of Set 4 | charters towers\n",
      "City not found. Skipping...\n",
      "Processing Record 27 of Set 4 | beloha\n",
      "Processing Record 28 of Set 4 | puerto madryn\n",
      "Processing Record 29 of Set 4 | bambous virieux\n"
     ]
    },
    {
     "name": "stdout",
     "output_type": "stream",
     "text": [
      "Processing Record 30 of Set 4 | sudbury\n",
      "Processing Record 31 of Set 4 | moussoro\n",
      "Processing Record 32 of Set 4 | iwanai\n",
      "Processing Record 33 of Set 4 | muriti\n",
      "Processing Record 34 of Set 4 | pando\n",
      "Processing Record 35 of Set 4 | vardo\n",
      "Processing Record 36 of Set 4 | boa vista\n",
      "Processing Record 37 of Set 4 | hofn\n",
      "Processing Record 38 of Set 4 | yumen\n",
      "Processing Record 39 of Set 4 | talnakh\n",
      "Processing Record 40 of Set 4 | alanya\n",
      "Processing Record 41 of Set 4 | saint george\n",
      "Processing Record 42 of Set 4 | billings\n",
      "Processing Record 43 of Set 4 | kulhudhuffushi\n",
      "Processing Record 44 of Set 4 | prince rupert\n",
      "Processing Record 45 of Set 4 | ixtapa\n",
      "Processing Record 46 of Set 4 | tomatlan\n",
      "Processing Record 47 of Set 4 | yellowknife\n",
      "Processing Record 48 of Set 4 | cherskiy\n",
      "Processing Record 49 of Set 4 | pangody\n",
      "Processing Record 50 of Set 4 | provideniya\n",
      "Processing Record 1 of Set 5 | isangel\n",
      "Processing Record 2 of Set 5 | kutum\n",
      "Processing Record 3 of Set 5 | nantucket\n",
      "Processing Record 4 of Set 5 | tiznit\n",
      "Processing Record 5 of Set 5 | santa rosa\n",
      "Processing Record 6 of Set 5 | pouembout\n",
      "Processing Record 7 of Set 5 | saint-pierre\n",
      "Processing Record 8 of Set 5 | launceston\n",
      "Processing Record 9 of Set 5 | nuuk\n",
      "Processing Record 10 of Set 5 | broome\n"
     ]
    },
    {
     "ename": "ConnectionError",
     "evalue": "HTTPConnectionPool(host='api.openweathermap.org', port=80): Max retries exceeded with url: /data/2.5/weather?units=imperial&appid=5ebecf8fd0dba6026072706cea7ad90c&q=luderitz (Caused by NewConnectionError('<urllib3.connection.HTTPConnection object at 0x116ac84e0>: Failed to establish a new connection: [Errno 50] Network is down',))",
     "output_type": "error",
     "traceback": [
      "\u001b[0;31m---------------------------------------------------------------------------\u001b[0m",
      "\u001b[0;31mOSError\u001b[0m                                   Traceback (most recent call last)",
      "\u001b[0;32m/anaconda3/lib/python3.6/site-packages/urllib3/connection.py\u001b[0m in \u001b[0;36m_new_conn\u001b[0;34m(self)\u001b[0m\n\u001b[1;32m    140\u001b[0m             conn = connection.create_connection(\n\u001b[0;32m--> 141\u001b[0;31m                 (self.host, self.port), self.timeout, **extra_kw)\n\u001b[0m\u001b[1;32m    142\u001b[0m \u001b[0;34m\u001b[0m\u001b[0m\n",
      "\u001b[0;32m/anaconda3/lib/python3.6/site-packages/urllib3/util/connection.py\u001b[0m in \u001b[0;36mcreate_connection\u001b[0;34m(address, timeout, source_address, socket_options)\u001b[0m\n\u001b[1;32m     82\u001b[0m     \u001b[0;32mif\u001b[0m \u001b[0merr\u001b[0m \u001b[0;32mis\u001b[0m \u001b[0;32mnot\u001b[0m \u001b[0;32mNone\u001b[0m\u001b[0;34m:\u001b[0m\u001b[0;34m\u001b[0m\u001b[0m\n\u001b[0;32m---> 83\u001b[0;31m         \u001b[0;32mraise\u001b[0m \u001b[0merr\u001b[0m\u001b[0;34m\u001b[0m\u001b[0m\n\u001b[0m\u001b[1;32m     84\u001b[0m \u001b[0;34m\u001b[0m\u001b[0m\n",
      "\u001b[0;32m/anaconda3/lib/python3.6/site-packages/urllib3/util/connection.py\u001b[0m in \u001b[0;36mcreate_connection\u001b[0;34m(address, timeout, source_address, socket_options)\u001b[0m\n\u001b[1;32m     72\u001b[0m                 \u001b[0msock\u001b[0m\u001b[0;34m.\u001b[0m\u001b[0mbind\u001b[0m\u001b[0;34m(\u001b[0m\u001b[0msource_address\u001b[0m\u001b[0;34m)\u001b[0m\u001b[0;34m\u001b[0m\u001b[0m\n\u001b[0;32m---> 73\u001b[0;31m             \u001b[0msock\u001b[0m\u001b[0;34m.\u001b[0m\u001b[0mconnect\u001b[0m\u001b[0;34m(\u001b[0m\u001b[0msa\u001b[0m\u001b[0;34m)\u001b[0m\u001b[0;34m\u001b[0m\u001b[0m\n\u001b[0m\u001b[1;32m     74\u001b[0m             \u001b[0;32mreturn\u001b[0m \u001b[0msock\u001b[0m\u001b[0;34m\u001b[0m\u001b[0m\n",
      "\u001b[0;31mOSError\u001b[0m: [Errno 50] Network is down",
      "\nDuring handling of the above exception, another exception occurred:\n",
      "\u001b[0;31mNewConnectionError\u001b[0m                        Traceback (most recent call last)",
      "\u001b[0;32m/anaconda3/lib/python3.6/site-packages/urllib3/connectionpool.py\u001b[0m in \u001b[0;36murlopen\u001b[0;34m(self, method, url, body, headers, retries, redirect, assert_same_host, timeout, pool_timeout, release_conn, chunked, body_pos, **response_kw)\u001b[0m\n\u001b[1;32m    600\u001b[0m                                                   \u001b[0mbody\u001b[0m\u001b[0;34m=\u001b[0m\u001b[0mbody\u001b[0m\u001b[0;34m,\u001b[0m \u001b[0mheaders\u001b[0m\u001b[0;34m=\u001b[0m\u001b[0mheaders\u001b[0m\u001b[0;34m,\u001b[0m\u001b[0;34m\u001b[0m\u001b[0m\n\u001b[0;32m--> 601\u001b[0;31m                                                   chunked=chunked)\n\u001b[0m\u001b[1;32m    602\u001b[0m \u001b[0;34m\u001b[0m\u001b[0m\n",
      "\u001b[0;32m/anaconda3/lib/python3.6/site-packages/urllib3/connectionpool.py\u001b[0m in \u001b[0;36m_make_request\u001b[0;34m(self, conn, method, url, timeout, chunked, **httplib_request_kw)\u001b[0m\n\u001b[1;32m    356\u001b[0m         \u001b[0;32melse\u001b[0m\u001b[0;34m:\u001b[0m\u001b[0;34m\u001b[0m\u001b[0m\n\u001b[0;32m--> 357\u001b[0;31m             \u001b[0mconn\u001b[0m\u001b[0;34m.\u001b[0m\u001b[0mrequest\u001b[0m\u001b[0;34m(\u001b[0m\u001b[0mmethod\u001b[0m\u001b[0;34m,\u001b[0m \u001b[0murl\u001b[0m\u001b[0;34m,\u001b[0m \u001b[0;34m**\u001b[0m\u001b[0mhttplib_request_kw\u001b[0m\u001b[0;34m)\u001b[0m\u001b[0;34m\u001b[0m\u001b[0m\n\u001b[0m\u001b[1;32m    358\u001b[0m \u001b[0;34m\u001b[0m\u001b[0m\n",
      "\u001b[0;32m/anaconda3/lib/python3.6/http/client.py\u001b[0m in \u001b[0;36mrequest\u001b[0;34m(self, method, url, body, headers, encode_chunked)\u001b[0m\n\u001b[1;32m   1238\u001b[0m         \u001b[0;34m\"\"\"Send a complete request to the server.\"\"\"\u001b[0m\u001b[0;34m\u001b[0m\u001b[0m\n\u001b[0;32m-> 1239\u001b[0;31m         \u001b[0mself\u001b[0m\u001b[0;34m.\u001b[0m\u001b[0m_send_request\u001b[0m\u001b[0;34m(\u001b[0m\u001b[0mmethod\u001b[0m\u001b[0;34m,\u001b[0m \u001b[0murl\u001b[0m\u001b[0;34m,\u001b[0m \u001b[0mbody\u001b[0m\u001b[0;34m,\u001b[0m \u001b[0mheaders\u001b[0m\u001b[0;34m,\u001b[0m \u001b[0mencode_chunked\u001b[0m\u001b[0;34m)\u001b[0m\u001b[0;34m\u001b[0m\u001b[0m\n\u001b[0m\u001b[1;32m   1240\u001b[0m \u001b[0;34m\u001b[0m\u001b[0m\n",
      "\u001b[0;32m/anaconda3/lib/python3.6/http/client.py\u001b[0m in \u001b[0;36m_send_request\u001b[0;34m(self, method, url, body, headers, encode_chunked)\u001b[0m\n\u001b[1;32m   1284\u001b[0m             \u001b[0mbody\u001b[0m \u001b[0;34m=\u001b[0m \u001b[0m_encode\u001b[0m\u001b[0;34m(\u001b[0m\u001b[0mbody\u001b[0m\u001b[0;34m,\u001b[0m \u001b[0;34m'body'\u001b[0m\u001b[0;34m)\u001b[0m\u001b[0;34m\u001b[0m\u001b[0m\n\u001b[0;32m-> 1285\u001b[0;31m         \u001b[0mself\u001b[0m\u001b[0;34m.\u001b[0m\u001b[0mendheaders\u001b[0m\u001b[0;34m(\u001b[0m\u001b[0mbody\u001b[0m\u001b[0;34m,\u001b[0m \u001b[0mencode_chunked\u001b[0m\u001b[0;34m=\u001b[0m\u001b[0mencode_chunked\u001b[0m\u001b[0;34m)\u001b[0m\u001b[0;34m\u001b[0m\u001b[0m\n\u001b[0m\u001b[1;32m   1286\u001b[0m \u001b[0;34m\u001b[0m\u001b[0m\n",
      "\u001b[0;32m/anaconda3/lib/python3.6/http/client.py\u001b[0m in \u001b[0;36mendheaders\u001b[0;34m(self, message_body, encode_chunked)\u001b[0m\n\u001b[1;32m   1233\u001b[0m             \u001b[0;32mraise\u001b[0m \u001b[0mCannotSendHeader\u001b[0m\u001b[0;34m(\u001b[0m\u001b[0;34m)\u001b[0m\u001b[0;34m\u001b[0m\u001b[0m\n\u001b[0;32m-> 1234\u001b[0;31m         \u001b[0mself\u001b[0m\u001b[0;34m.\u001b[0m\u001b[0m_send_output\u001b[0m\u001b[0;34m(\u001b[0m\u001b[0mmessage_body\u001b[0m\u001b[0;34m,\u001b[0m \u001b[0mencode_chunked\u001b[0m\u001b[0;34m=\u001b[0m\u001b[0mencode_chunked\u001b[0m\u001b[0;34m)\u001b[0m\u001b[0;34m\u001b[0m\u001b[0m\n\u001b[0m\u001b[1;32m   1235\u001b[0m \u001b[0;34m\u001b[0m\u001b[0m\n",
      "\u001b[0;32m/anaconda3/lib/python3.6/http/client.py\u001b[0m in \u001b[0;36m_send_output\u001b[0;34m(self, message_body, encode_chunked)\u001b[0m\n\u001b[1;32m   1025\u001b[0m         \u001b[0;32mdel\u001b[0m \u001b[0mself\u001b[0m\u001b[0;34m.\u001b[0m\u001b[0m_buffer\u001b[0m\u001b[0;34m[\u001b[0m\u001b[0;34m:\u001b[0m\u001b[0;34m]\u001b[0m\u001b[0;34m\u001b[0m\u001b[0m\n\u001b[0;32m-> 1026\u001b[0;31m         \u001b[0mself\u001b[0m\u001b[0;34m.\u001b[0m\u001b[0msend\u001b[0m\u001b[0;34m(\u001b[0m\u001b[0mmsg\u001b[0m\u001b[0;34m)\u001b[0m\u001b[0;34m\u001b[0m\u001b[0m\n\u001b[0m\u001b[1;32m   1027\u001b[0m \u001b[0;34m\u001b[0m\u001b[0m\n",
      "\u001b[0;32m/anaconda3/lib/python3.6/http/client.py\u001b[0m in \u001b[0;36msend\u001b[0;34m(self, data)\u001b[0m\n\u001b[1;32m    963\u001b[0m             \u001b[0;32mif\u001b[0m \u001b[0mself\u001b[0m\u001b[0;34m.\u001b[0m\u001b[0mauto_open\u001b[0m\u001b[0;34m:\u001b[0m\u001b[0;34m\u001b[0m\u001b[0m\n\u001b[0;32m--> 964\u001b[0;31m                 \u001b[0mself\u001b[0m\u001b[0;34m.\u001b[0m\u001b[0mconnect\u001b[0m\u001b[0;34m(\u001b[0m\u001b[0;34m)\u001b[0m\u001b[0;34m\u001b[0m\u001b[0m\n\u001b[0m\u001b[1;32m    965\u001b[0m             \u001b[0;32melse\u001b[0m\u001b[0;34m:\u001b[0m\u001b[0;34m\u001b[0m\u001b[0m\n",
      "\u001b[0;32m/anaconda3/lib/python3.6/site-packages/urllib3/connection.py\u001b[0m in \u001b[0;36mconnect\u001b[0;34m(self)\u001b[0m\n\u001b[1;32m    165\u001b[0m     \u001b[0;32mdef\u001b[0m \u001b[0mconnect\u001b[0m\u001b[0;34m(\u001b[0m\u001b[0mself\u001b[0m\u001b[0;34m)\u001b[0m\u001b[0;34m:\u001b[0m\u001b[0;34m\u001b[0m\u001b[0m\n\u001b[0;32m--> 166\u001b[0;31m         \u001b[0mconn\u001b[0m \u001b[0;34m=\u001b[0m \u001b[0mself\u001b[0m\u001b[0;34m.\u001b[0m\u001b[0m_new_conn\u001b[0m\u001b[0;34m(\u001b[0m\u001b[0;34m)\u001b[0m\u001b[0;34m\u001b[0m\u001b[0m\n\u001b[0m\u001b[1;32m    167\u001b[0m         \u001b[0mself\u001b[0m\u001b[0;34m.\u001b[0m\u001b[0m_prepare_conn\u001b[0m\u001b[0;34m(\u001b[0m\u001b[0mconn\u001b[0m\u001b[0;34m)\u001b[0m\u001b[0;34m\u001b[0m\u001b[0m\n",
      "\u001b[0;32m/anaconda3/lib/python3.6/site-packages/urllib3/connection.py\u001b[0m in \u001b[0;36m_new_conn\u001b[0;34m(self)\u001b[0m\n\u001b[1;32m    149\u001b[0m             raise NewConnectionError(\n\u001b[0;32m--> 150\u001b[0;31m                 self, \"Failed to establish a new connection: %s\" % e)\n\u001b[0m\u001b[1;32m    151\u001b[0m \u001b[0;34m\u001b[0m\u001b[0m\n",
      "\u001b[0;31mNewConnectionError\u001b[0m: <urllib3.connection.HTTPConnection object at 0x116ac84e0>: Failed to establish a new connection: [Errno 50] Network is down",
      "\nDuring handling of the above exception, another exception occurred:\n",
      "\u001b[0;31mMaxRetryError\u001b[0m                             Traceback (most recent call last)",
      "\u001b[0;32m/anaconda3/lib/python3.6/site-packages/requests/adapters.py\u001b[0m in \u001b[0;36msend\u001b[0;34m(self, request, stream, timeout, verify, cert, proxies)\u001b[0m\n\u001b[1;32m    439\u001b[0m                     \u001b[0mretries\u001b[0m\u001b[0;34m=\u001b[0m\u001b[0mself\u001b[0m\u001b[0;34m.\u001b[0m\u001b[0mmax_retries\u001b[0m\u001b[0;34m,\u001b[0m\u001b[0;34m\u001b[0m\u001b[0m\n\u001b[0;32m--> 440\u001b[0;31m                     \u001b[0mtimeout\u001b[0m\u001b[0;34m=\u001b[0m\u001b[0mtimeout\u001b[0m\u001b[0;34m\u001b[0m\u001b[0m\n\u001b[0m\u001b[1;32m    441\u001b[0m                 )\n",
      "\u001b[0;32m/anaconda3/lib/python3.6/site-packages/urllib3/connectionpool.py\u001b[0m in \u001b[0;36murlopen\u001b[0;34m(self, method, url, body, headers, retries, redirect, assert_same_host, timeout, pool_timeout, release_conn, chunked, body_pos, **response_kw)\u001b[0m\n\u001b[1;32m    638\u001b[0m             retries = retries.increment(method, url, error=e, _pool=self,\n\u001b[0;32m--> 639\u001b[0;31m                                         _stacktrace=sys.exc_info()[2])\n\u001b[0m\u001b[1;32m    640\u001b[0m             \u001b[0mretries\u001b[0m\u001b[0;34m.\u001b[0m\u001b[0msleep\u001b[0m\u001b[0;34m(\u001b[0m\u001b[0;34m)\u001b[0m\u001b[0;34m\u001b[0m\u001b[0m\n",
      "\u001b[0;32m/anaconda3/lib/python3.6/site-packages/urllib3/util/retry.py\u001b[0m in \u001b[0;36mincrement\u001b[0;34m(self, method, url, response, error, _pool, _stacktrace)\u001b[0m\n\u001b[1;32m    387\u001b[0m         \u001b[0;32mif\u001b[0m \u001b[0mnew_retry\u001b[0m\u001b[0;34m.\u001b[0m\u001b[0mis_exhausted\u001b[0m\u001b[0;34m(\u001b[0m\u001b[0;34m)\u001b[0m\u001b[0;34m:\u001b[0m\u001b[0;34m\u001b[0m\u001b[0m\n\u001b[0;32m--> 388\u001b[0;31m             \u001b[0;32mraise\u001b[0m \u001b[0mMaxRetryError\u001b[0m\u001b[0;34m(\u001b[0m\u001b[0m_pool\u001b[0m\u001b[0;34m,\u001b[0m \u001b[0murl\u001b[0m\u001b[0;34m,\u001b[0m \u001b[0merror\u001b[0m \u001b[0;32mor\u001b[0m \u001b[0mResponseError\u001b[0m\u001b[0;34m(\u001b[0m\u001b[0mcause\u001b[0m\u001b[0;34m)\u001b[0m\u001b[0;34m)\u001b[0m\u001b[0;34m\u001b[0m\u001b[0m\n\u001b[0m\u001b[1;32m    389\u001b[0m \u001b[0;34m\u001b[0m\u001b[0m\n",
      "\u001b[0;31mMaxRetryError\u001b[0m: HTTPConnectionPool(host='api.openweathermap.org', port=80): Max retries exceeded with url: /data/2.5/weather?units=imperial&appid=5ebecf8fd0dba6026072706cea7ad90c&q=luderitz (Caused by NewConnectionError('<urllib3.connection.HTTPConnection object at 0x116ac84e0>: Failed to establish a new connection: [Errno 50] Network is down',))",
      "\nDuring handling of the above exception, another exception occurred:\n",
      "\u001b[0;31mConnectionError\u001b[0m                           Traceback (most recent call last)",
      "\u001b[0;32m<ipython-input-8-636d16e105de>\u001b[0m in \u001b[0;36m<module>\u001b[0;34m()\u001b[0m\n\u001b[1;32m      7\u001b[0m \u001b[0;34m\u001b[0m\u001b[0m\n\u001b[1;32m      8\u001b[0m \u001b[0;32mfor\u001b[0m \u001b[0mcity\u001b[0m \u001b[0;32min\u001b[0m \u001b[0mcities\u001b[0m\u001b[0;34m:\u001b[0m\u001b[0;34m\u001b[0m\u001b[0m\n\u001b[0;32m----> 9\u001b[0;31m     \u001b[0mresponse\u001b[0m \u001b[0;34m=\u001b[0m \u001b[0mrequests\u001b[0m\u001b[0;34m.\u001b[0m\u001b[0mget\u001b[0m\u001b[0;34m(\u001b[0m\u001b[0murl\u001b[0m \u001b[0;34m+\u001b[0m \u001b[0mcity\u001b[0m\u001b[0;34m)\u001b[0m\u001b[0;34m\u001b[0m\u001b[0m\n\u001b[0m\u001b[1;32m     10\u001b[0m     \u001b[0;32mif\u001b[0m \u001b[0mresponse\u001b[0m\u001b[0;34m.\u001b[0m\u001b[0mstatus_code\u001b[0m \u001b[0;34m==\u001b[0m \u001b[0;36m200\u001b[0m\u001b[0;34m:\u001b[0m\u001b[0;34m\u001b[0m\u001b[0m\n\u001b[1;32m     11\u001b[0m         \u001b[0mresponse_json\u001b[0m \u001b[0;34m=\u001b[0m \u001b[0mresponse\u001b[0m\u001b[0;34m.\u001b[0m\u001b[0mjson\u001b[0m\u001b[0;34m(\u001b[0m\u001b[0;34m)\u001b[0m\u001b[0;34m\u001b[0m\u001b[0m\n",
      "\u001b[0;32m/anaconda3/lib/python3.6/site-packages/requests/api.py\u001b[0m in \u001b[0;36mget\u001b[0;34m(url, params, **kwargs)\u001b[0m\n\u001b[1;32m     70\u001b[0m \u001b[0;34m\u001b[0m\u001b[0m\n\u001b[1;32m     71\u001b[0m     \u001b[0mkwargs\u001b[0m\u001b[0;34m.\u001b[0m\u001b[0msetdefault\u001b[0m\u001b[0;34m(\u001b[0m\u001b[0;34m'allow_redirects'\u001b[0m\u001b[0;34m,\u001b[0m \u001b[0;32mTrue\u001b[0m\u001b[0;34m)\u001b[0m\u001b[0;34m\u001b[0m\u001b[0m\n\u001b[0;32m---> 72\u001b[0;31m     \u001b[0;32mreturn\u001b[0m \u001b[0mrequest\u001b[0m\u001b[0;34m(\u001b[0m\u001b[0;34m'get'\u001b[0m\u001b[0;34m,\u001b[0m \u001b[0murl\u001b[0m\u001b[0;34m,\u001b[0m \u001b[0mparams\u001b[0m\u001b[0;34m=\u001b[0m\u001b[0mparams\u001b[0m\u001b[0;34m,\u001b[0m \u001b[0;34m**\u001b[0m\u001b[0mkwargs\u001b[0m\u001b[0;34m)\u001b[0m\u001b[0;34m\u001b[0m\u001b[0m\n\u001b[0m\u001b[1;32m     73\u001b[0m \u001b[0;34m\u001b[0m\u001b[0m\n\u001b[1;32m     74\u001b[0m \u001b[0;34m\u001b[0m\u001b[0m\n",
      "\u001b[0;32m/anaconda3/lib/python3.6/site-packages/requests/api.py\u001b[0m in \u001b[0;36mrequest\u001b[0;34m(method, url, **kwargs)\u001b[0m\n\u001b[1;32m     56\u001b[0m     \u001b[0;31m# cases, and look like a memory leak in others.\u001b[0m\u001b[0;34m\u001b[0m\u001b[0;34m\u001b[0m\u001b[0m\n\u001b[1;32m     57\u001b[0m     \u001b[0;32mwith\u001b[0m \u001b[0msessions\u001b[0m\u001b[0;34m.\u001b[0m\u001b[0mSession\u001b[0m\u001b[0;34m(\u001b[0m\u001b[0;34m)\u001b[0m \u001b[0;32mas\u001b[0m \u001b[0msession\u001b[0m\u001b[0;34m:\u001b[0m\u001b[0;34m\u001b[0m\u001b[0m\n\u001b[0;32m---> 58\u001b[0;31m         \u001b[0;32mreturn\u001b[0m \u001b[0msession\u001b[0m\u001b[0;34m.\u001b[0m\u001b[0mrequest\u001b[0m\u001b[0;34m(\u001b[0m\u001b[0mmethod\u001b[0m\u001b[0;34m=\u001b[0m\u001b[0mmethod\u001b[0m\u001b[0;34m,\u001b[0m \u001b[0murl\u001b[0m\u001b[0;34m=\u001b[0m\u001b[0murl\u001b[0m\u001b[0;34m,\u001b[0m \u001b[0;34m**\u001b[0m\u001b[0mkwargs\u001b[0m\u001b[0;34m)\u001b[0m\u001b[0;34m\u001b[0m\u001b[0m\n\u001b[0m\u001b[1;32m     59\u001b[0m \u001b[0;34m\u001b[0m\u001b[0m\n\u001b[1;32m     60\u001b[0m \u001b[0;34m\u001b[0m\u001b[0m\n",
      "\u001b[0;32m/anaconda3/lib/python3.6/site-packages/requests/sessions.py\u001b[0m in \u001b[0;36mrequest\u001b[0;34m(self, method, url, params, data, headers, cookies, files, auth, timeout, allow_redirects, proxies, hooks, stream, verify, cert, json)\u001b[0m\n\u001b[1;32m    506\u001b[0m         }\n\u001b[1;32m    507\u001b[0m         \u001b[0msend_kwargs\u001b[0m\u001b[0;34m.\u001b[0m\u001b[0mupdate\u001b[0m\u001b[0;34m(\u001b[0m\u001b[0msettings\u001b[0m\u001b[0;34m)\u001b[0m\u001b[0;34m\u001b[0m\u001b[0m\n\u001b[0;32m--> 508\u001b[0;31m         \u001b[0mresp\u001b[0m \u001b[0;34m=\u001b[0m \u001b[0mself\u001b[0m\u001b[0;34m.\u001b[0m\u001b[0msend\u001b[0m\u001b[0;34m(\u001b[0m\u001b[0mprep\u001b[0m\u001b[0;34m,\u001b[0m \u001b[0;34m**\u001b[0m\u001b[0msend_kwargs\u001b[0m\u001b[0;34m)\u001b[0m\u001b[0;34m\u001b[0m\u001b[0m\n\u001b[0m\u001b[1;32m    509\u001b[0m \u001b[0;34m\u001b[0m\u001b[0m\n\u001b[1;32m    510\u001b[0m         \u001b[0;32mreturn\u001b[0m \u001b[0mresp\u001b[0m\u001b[0;34m\u001b[0m\u001b[0m\n",
      "\u001b[0;32m/anaconda3/lib/python3.6/site-packages/requests/sessions.py\u001b[0m in \u001b[0;36msend\u001b[0;34m(self, request, **kwargs)\u001b[0m\n\u001b[1;32m    616\u001b[0m \u001b[0;34m\u001b[0m\u001b[0m\n\u001b[1;32m    617\u001b[0m         \u001b[0;31m# Send the request\u001b[0m\u001b[0;34m\u001b[0m\u001b[0;34m\u001b[0m\u001b[0m\n\u001b[0;32m--> 618\u001b[0;31m         \u001b[0mr\u001b[0m \u001b[0;34m=\u001b[0m \u001b[0madapter\u001b[0m\u001b[0;34m.\u001b[0m\u001b[0msend\u001b[0m\u001b[0;34m(\u001b[0m\u001b[0mrequest\u001b[0m\u001b[0;34m,\u001b[0m \u001b[0;34m**\u001b[0m\u001b[0mkwargs\u001b[0m\u001b[0;34m)\u001b[0m\u001b[0;34m\u001b[0m\u001b[0m\n\u001b[0m\u001b[1;32m    619\u001b[0m \u001b[0;34m\u001b[0m\u001b[0m\n\u001b[1;32m    620\u001b[0m         \u001b[0;31m# Total elapsed time of the request (approximately)\u001b[0m\u001b[0;34m\u001b[0m\u001b[0;34m\u001b[0m\u001b[0m\n",
      "\u001b[0;32m/anaconda3/lib/python3.6/site-packages/requests/adapters.py\u001b[0m in \u001b[0;36msend\u001b[0;34m(self, request, stream, timeout, verify, cert, proxies)\u001b[0m\n\u001b[1;32m    506\u001b[0m                 \u001b[0;32mraise\u001b[0m \u001b[0mSSLError\u001b[0m\u001b[0;34m(\u001b[0m\u001b[0me\u001b[0m\u001b[0;34m,\u001b[0m \u001b[0mrequest\u001b[0m\u001b[0;34m=\u001b[0m\u001b[0mrequest\u001b[0m\u001b[0;34m)\u001b[0m\u001b[0;34m\u001b[0m\u001b[0m\n\u001b[1;32m    507\u001b[0m \u001b[0;34m\u001b[0m\u001b[0m\n\u001b[0;32m--> 508\u001b[0;31m             \u001b[0;32mraise\u001b[0m \u001b[0mConnectionError\u001b[0m\u001b[0;34m(\u001b[0m\u001b[0me\u001b[0m\u001b[0;34m,\u001b[0m \u001b[0mrequest\u001b[0m\u001b[0;34m=\u001b[0m\u001b[0mrequest\u001b[0m\u001b[0;34m)\u001b[0m\u001b[0;34m\u001b[0m\u001b[0m\n\u001b[0m\u001b[1;32m    509\u001b[0m \u001b[0;34m\u001b[0m\u001b[0m\n\u001b[1;32m    510\u001b[0m         \u001b[0;32mexcept\u001b[0m \u001b[0mClosedPoolError\u001b[0m \u001b[0;32mas\u001b[0m \u001b[0me\u001b[0m\u001b[0;34m:\u001b[0m\u001b[0;34m\u001b[0m\u001b[0m\n",
      "\u001b[0;31mConnectionError\u001b[0m: HTTPConnectionPool(host='api.openweathermap.org', port=80): Max retries exceeded with url: /data/2.5/weather?units=imperial&appid=5ebecf8fd0dba6026072706cea7ad90c&q=luderitz (Caused by NewConnectionError('<urllib3.connection.HTTPConnection object at 0x116ac84e0>: Failed to establish a new connection: [Errno 50] Network is down',))"
     ]
    }
   ],
   "source": [
    "print(\"Beginning Data Retrieval\")\n",
    "print(\"-----------------------------\")\n",
    "\n",
    "weather_info = []\n",
    "record = 1\n",
    "set_number = 1\n",
    "\n",
    "for city in cities:\n",
    "    response = requests.get(url + city)\n",
    "    if response.status_code == 200:\n",
    "        response_json = response.json()\n",
    "        weather_info.append([city, response_json[\"clouds\"][\"all\"], \n",
    "                             response_json[\"sys\"][\"country\"], \n",
    "                             response_json[\"dt\"], \n",
    "                             response_json[\"main\"][\"humidity\"], \n",
    "                             response_json[\"coord\"][\"lat\"],\n",
    "                             response_json[\"coord\"][\"lon\"],\n",
    "                             response_json[\"main\"][\"temp_max\"], \n",
    "                             response_json[\"wind\"][\"speed\"]                             \n",
    "                            ])\n",
    "        \n",
    "        print(f\"Processing Record {record} of Set {set_number} | {city}\")\n",
    "        \n",
    "        if record < 50:\n",
    "            record = record + 1\n",
    "        elif record >= 50:\n",
    "            record = 1\n",
    "            set_number = set_number + 1\n",
    "        \n",
    "    else:\n",
    "        print(\"City not found. Skipping...\")\n",
    "        \n",
    "    time.sleep(1.1)"
   ]
  },
  {
   "cell_type": "markdown",
   "metadata": {},
   "source": [
    "### Convert Raw Data to DataFrame\n",
    "* Export the city data into a .csv.\n",
    "* Display the DataFrame"
   ]
  },
  {
   "cell_type": "code",
   "execution_count": 9,
   "metadata": {},
   "outputs": [
    {
     "data": {
      "text/plain": [
       "City          210\n",
       "Cloudiness    210\n",
       "Country       210\n",
       "Date          210\n",
       "Humidity      210\n",
       "Lat           210\n",
       "Lng           210\n",
       "Max Temp      210\n",
       "Wind Speed    210\n",
       "dtype: int64"
      ]
     },
     "execution_count": 9,
     "metadata": {},
     "output_type": "execute_result"
    }
   ],
   "source": [
    "weather_df = pd.DataFrame(weather_info)\n",
    "\n",
    "weather_df.columns =[\"City\", \"Cloudiness\", \"Country\", \"Date\", \"Humidity\", \n",
    "                     \"Lat\", \"Lng\", \"Max Temp\", \"Wind Speed\"]\n",
    "\n",
    "weather_df.to_csv('Weather_Info.csv', index=False)\n",
    "\n",
    "weather_df.count()"
   ]
  },
  {
   "cell_type": "code",
   "execution_count": 10,
   "metadata": {},
   "outputs": [
    {
     "data": {
      "text/html": [
       "<div>\n",
       "<style scoped>\n",
       "    .dataframe tbody tr th:only-of-type {\n",
       "        vertical-align: middle;\n",
       "    }\n",
       "\n",
       "    .dataframe tbody tr th {\n",
       "        vertical-align: top;\n",
       "    }\n",
       "\n",
       "    .dataframe thead th {\n",
       "        text-align: right;\n",
       "    }\n",
       "</style>\n",
       "<table border=\"1\" class=\"dataframe\">\n",
       "  <thead>\n",
       "    <tr style=\"text-align: right;\">\n",
       "      <th></th>\n",
       "      <th>City</th>\n",
       "      <th>Cloudiness</th>\n",
       "      <th>Country</th>\n",
       "      <th>Date</th>\n",
       "      <th>Humidity</th>\n",
       "      <th>Lat</th>\n",
       "      <th>Lng</th>\n",
       "      <th>Max Temp</th>\n",
       "      <th>Wind Speed</th>\n",
       "    </tr>\n",
       "  </thead>\n",
       "  <tbody>\n",
       "    <tr>\n",
       "      <th>0</th>\n",
       "      <td>avare</td>\n",
       "      <td>92</td>\n",
       "      <td>BR</td>\n",
       "      <td>1551340619</td>\n",
       "      <td>99</td>\n",
       "      <td>-23.10</td>\n",
       "      <td>-48.93</td>\n",
       "      <td>66.52</td>\n",
       "      <td>3.27</td>\n",
       "    </tr>\n",
       "    <tr>\n",
       "      <th>1</th>\n",
       "      <td>kapaa</td>\n",
       "      <td>40</td>\n",
       "      <td>US</td>\n",
       "      <td>1551340395</td>\n",
       "      <td>52</td>\n",
       "      <td>22.08</td>\n",
       "      <td>-159.32</td>\n",
       "      <td>66.20</td>\n",
       "      <td>11.41</td>\n",
       "    </tr>\n",
       "    <tr>\n",
       "      <th>2</th>\n",
       "      <td>hovd</td>\n",
       "      <td>75</td>\n",
       "      <td>NO</td>\n",
       "      <td>1551340531</td>\n",
       "      <td>86</td>\n",
       "      <td>63.83</td>\n",
       "      <td>10.70</td>\n",
       "      <td>39.99</td>\n",
       "      <td>24.16</td>\n",
       "    </tr>\n",
       "    <tr>\n",
       "      <th>3</th>\n",
       "      <td>hithadhoo</td>\n",
       "      <td>56</td>\n",
       "      <td>MV</td>\n",
       "      <td>1551340625</td>\n",
       "      <td>100</td>\n",
       "      <td>-0.60</td>\n",
       "      <td>73.08</td>\n",
       "      <td>82.49</td>\n",
       "      <td>10.98</td>\n",
       "    </tr>\n",
       "    <tr>\n",
       "      <th>4</th>\n",
       "      <td>ramnagar</td>\n",
       "      <td>12</td>\n",
       "      <td>IN</td>\n",
       "      <td>1551340626</td>\n",
       "      <td>100</td>\n",
       "      <td>27.17</td>\n",
       "      <td>84.33</td>\n",
       "      <td>64.18</td>\n",
       "      <td>4.27</td>\n",
       "    </tr>\n",
       "  </tbody>\n",
       "</table>\n",
       "</div>"
      ],
      "text/plain": [
       "        City  Cloudiness Country        Date  Humidity    Lat     Lng  \\\n",
       "0      avare          92      BR  1551340619        99 -23.10  -48.93   \n",
       "1      kapaa          40      US  1551340395        52  22.08 -159.32   \n",
       "2       hovd          75      NO  1551340531        86  63.83   10.70   \n",
       "3  hithadhoo          56      MV  1551340625       100  -0.60   73.08   \n",
       "4   ramnagar          12      IN  1551340626       100  27.17   84.33   \n",
       "\n",
       "   Max Temp  Wind Speed  \n",
       "0     66.52        3.27  \n",
       "1     66.20       11.41  \n",
       "2     39.99       24.16  \n",
       "3     82.49       10.98  \n",
       "4     64.18        4.27  "
      ]
     },
     "execution_count": 10,
     "metadata": {},
     "output_type": "execute_result"
    }
   ],
   "source": [
    "weather_df.head()"
   ]
  },
  {
   "cell_type": "markdown",
   "metadata": {},
   "source": [
    "### Plotting the Data\n",
    "* Use proper labeling of the plots using plot titles (including date of analysis) and axes labels.\n",
    "* Save the plotted figures as .pngs."
   ]
  },
  {
   "cell_type": "markdown",
   "metadata": {},
   "source": [
    "#### Latitude vs. Temperature Plot"
   ]
  },
  {
   "cell_type": "code",
   "execution_count": 11,
   "metadata": {},
   "outputs": [
    {
     "data": {
      "image/png": "[encoded data removed]",
      "text/plain": [
       "<Figure size 432x288 with 1 Axes>"
      ]
     },
     "metadata": {},
     "output_type": "display_data"
    }
   ],
   "source": [
    "plt.scatter(weather_df[\"Lat\"], weather_df[\"Max Temp\"], marker=\"o\", color='c',\n",
    "            edgecolor='black', alpha=0.7)\n",
    "plt.title('City Latitude vs. Max Temperature')\n",
    "plt.xlabel('Latitude')\n",
    "plt.ylabel('Max Temperature (F)')\n",
    "plt.grid()"
   ]
  },
  {
   "cell_type": "markdown",
   "metadata": {},
   "source": [
    "#### Latitude vs. Humidity Plot"
   ]
  },
  {
   "cell_type": "code",
   "execution_count": 12,
   "metadata": {},
   "outputs": [
    {
     "data": {
      "image/png": "[encoded data removed]",
      "text/plain": [
       "<Figure size 432x288 with 1 Axes>"
      ]
     },
     "metadata": {},
     "output_type": "display_data"
    }
   ],
   "source": [
    "plt.scatter(weather_df[\"Lat\"], weather_df[\"Humidity\"], marker=\"o\", color='c',\n",
    "            edgecolor='black', alpha=0.7)\n",
    "plt.title('City Latitude vs. Humidity')\n",
    "plt.xlabel('Latitude')\n",
    "plt.ylabel('Humidity (%)')\n",
    "plt.grid()"
   ]
  },
  {
   "cell_type": "markdown",
   "metadata": {},
   "source": [
    "#### Latitude vs. Cloudiness Plot"
   ]
  },
  {
   "cell_type": "code",
   "execution_count": 13,
   "metadata": {},
   "outputs": [
    {
     "data": {
      "image/png": "[encoded data removed]",
      "text/plain": [
       "<Figure size 432x288 with 1 Axes>"
      ]
     },
     "metadata": {},
     "output_type": "display_data"
    }
   ],
   "source": [
    "plt.scatter(weather_df[\"Lat\"], weather_df[\"Cloudiness\"], marker=\"o\", color='c',\n",
    "            edgecolor='black', alpha=0.7)\n",
    "plt.title('City Latitude vs. Cloudiness')\n",
    "plt.xlabel('Latitude')\n",
    "plt.ylabel('Cloudiness (%)')\n",
    "plt.grid()"
   ]
  },
  {
   "cell_type": "markdown",
   "metadata": {},
   "source": [
    "#### Latitude vs. Wind Speed Plot"
   ]
  },
  {
   "cell_type": "code",
   "execution_count": 14,
   "metadata": {},
   "outputs": [
    {
     "data": {
      "image/png": "[encoded data removed]",
      "text/plain": [
       "<Figure size 432x288 with 1 Axes>"
      ]
     },
     "metadata": {},
     "output_type": "display_data"
    }
   ],
   "source": [
    "plt.scatter(weather_df[\"Lat\"], weather_df[\"Wind Speed\"], marker=\"o\", color='c',\n",
    "            edgecolor='black', alpha=0.7)\n",
    "plt.title('City Latitude vs. Wind Speed')\n",
    "plt.xlabel('Latitude')\n",
    "plt.ylabel('Wind Speed (MPH)')\n",
    "plt.grid()"
   ]
  }
 ],
 "metadata": {
  "anaconda-cloud": {},
  "kernelspec": {
   "display_name": "Python 3",
   "language": "python",
   "name": "python3"
  },
  "language_info": {
   "codemirror_mode": {
    "name": "ipython",
    "version": 3
   },
   "file_extension": ".py",
   "mimetype": "text/x-python",
   "name": "python",
   "nbconvert_exporter": "python",
   "pygments_lexer": "ipython3",
   "version": "3.6.5"
  }
 },
 "nbformat": 4,
 "nbformat_minor": 2
}
